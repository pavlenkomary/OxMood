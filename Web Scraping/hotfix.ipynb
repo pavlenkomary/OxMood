{
 "cells": [
  {
   "cell_type": "code",
   "execution_count": null,
   "metadata": {},
   "outputs": [],
   "source": [
    "import json\n",
    "file = open(\"Oxlove3.txt\", \"r\")\n",
    "contents = file.read()\n",
    "contents = contents.split(\"\\n\")\n",
    "newRecords = []\n",
    "newFile = open(\"Oxlove3New.txt\", \"w\")\n",
    "for thing in contents:\n",
    "    print(thing)\n",
    "    record = json.loads(thing)\n",
    "    newRecord = (\n",
    "        record[\"Initials\"],\n",
    "        record[\"College\"],\n",
    "        record[\"DateOfPost\"],\n",
    "        record[\"Hashtag\"],\n",
    "        record[\"Content\"],\n",
    "        record[\"NameOfPage\"]\n",
    "    )\n",
    "    newFile.write(json.dumps(newRecord) + \"\\n\")"
   ]
  }
 ],
 "metadata": {
  "kernelspec": {
   "display_name": "Python 3",
   "language": "python",
   "name": "python3"
  },
  "language_info": {
   "codemirror_mode": {
    "name": "ipython",
    "version": 3
   },
   "file_extension": ".py",
   "mimetype": "text/x-python",
   "name": "python",
   "nbconvert_exporter": "python",
   "pygments_lexer": "ipython3",
   "version": "3.7.0"
  }
 },
 "nbformat": 4,
 "nbformat_minor": 2
}
