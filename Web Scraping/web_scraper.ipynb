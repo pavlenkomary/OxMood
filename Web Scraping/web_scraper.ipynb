{
 "cells": [
  {
   "cell_type": "code",
   "execution_count": 2,
   "metadata": {},
   "outputs": [
    {
     "ename": "FileNotFoundError",
     "evalue": "[Errno 2] No such file or directory: 'Oxlove3New.txt'",
     "output_type": "error",
     "traceback": [
      "\u001b[0;31m---------------------------------------------------------------------------\u001b[0m",
      "\u001b[0;31mFileNotFoundError\u001b[0m                         Traceback (most recent call last)",
      "\u001b[0;32m<ipython-input-2-dbc60647f5eb>\u001b[0m in \u001b[0;36m<module>\u001b[0;34m()\u001b[0m\n\u001b[1;32m      3\u001b[0m \u001b[0;32mimport\u001b[0m \u001b[0mdatetime\u001b[0m\u001b[0;34m\u001b[0m\u001b[0m\n\u001b[1;32m      4\u001b[0m \u001b[0;34m\u001b[0m\u001b[0m\n\u001b[0;32m----> 5\u001b[0;31m \u001b[0mfile\u001b[0m \u001b[0;34m=\u001b[0m \u001b[0mopen\u001b[0m\u001b[0;34m(\u001b[0m\u001b[0;34m\"Oxlove3New.txt\"\u001b[0m\u001b[0;34m,\u001b[0m \u001b[0;34m\"r\"\u001b[0m\u001b[0;34m)\u001b[0m\u001b[0;34m\u001b[0m\u001b[0m\n\u001b[0m\u001b[1;32m      6\u001b[0m \u001b[0mcontents\u001b[0m \u001b[0;34m=\u001b[0m \u001b[0mfile\u001b[0m\u001b[0;34m.\u001b[0m\u001b[0mread\u001b[0m\u001b[0;34m(\u001b[0m\u001b[0;34m)\u001b[0m\u001b[0;34m\u001b[0m\u001b[0m\n\u001b[1;32m      7\u001b[0m \u001b[0mcontents\u001b[0m \u001b[0;34m=\u001b[0m \u001b[0mcontents\u001b[0m\u001b[0;34m.\u001b[0m\u001b[0msplit\u001b[0m\u001b[0;34m(\u001b[0m\u001b[0;34m\"\\n\"\u001b[0m\u001b[0;34m)\u001b[0m\u001b[0;34m\u001b[0m\u001b[0m\n",
      "\u001b[0;31mFileNotFoundError\u001b[0m: [Errno 2] No such file or directory: 'Oxlove3New.txt'"
     ]
    }
   ],
   "source": [
    "import json\n",
    "import re\n",
    "import datetime\n",
    "\n",
    "file = open(\"Oxlove3New.txt\", \"r\")\n",
    "contents = file.read()\n",
    "contents = contents.split(\"\\n\")\n",
    "newRecords = []\n",
    "newFile = open(\"Oxlove3Reformatted.txt\", \"w\")\n",
    "for thing in contents:\n",
    "    record = json.loads(thing)\n",
    "    currentDate = datetime.date.today()\n",
    "    date = record[2]\n",
    "    regex1 = \"[1-9] h\"\n",
    "    checker1 = re.compile(regex1)\n",
    "    regex2 = \"[1-9] d\"\n",
    "    checker2 = re.compile(regex2)\n",
    "    regex3 = \"[1-9][1-9] [A-Z][a-z]* at [1-9][1-9]:[1-9][1-9]\"\n",
    "    checker3 = re.compile(regex3)\n",
    "    if checker1.match(date):\n",
    "        date = currentDate.strftime(\"%Y/%m/%d\")\n",
    "    elif checker2.match(date):\n",
    "        currentDate -= datetime.timedelta(int(date[0]))\n",
    "        date = currentDate.strftime(\"%Y/%m/%d\")\n",
    "    else:\n",
    "        splitDate = date.split()\n",
    "        if splitDate[1] == \"January\":\n",
    "            date = f\"2020/01/{splitDate[0]}\"\n",
    "        elif splitDate[1] == \"February\":\n",
    "            date = f\"2020/02/{splitDate[0]}\"\n",
    "        elif splitDate[1] == \"March\":\n",
    "            date = f\"2020/03/{splitDate[0]}\"\n",
    "        elif splitDate[1] == \"April\":\n",
    "            date = f\"2020/04/{splitDate[0]}\"\n",
    "        elif splitDate[1] == \"May\":\n",
    "            date = f\"2020/05/{splitDate[0]}\"\n",
    "        elif splitDate[1] == \"June\":\n",
    "            date = f\"2020/06/{splitDate[0]}\"\n",
    "        elif splitDate[1] == \"July\":\n",
    "            date = f\"2020/07/{splitDate[0]}\"\n",
    "        elif splitDate[1] == \"August\":\n",
    "            date = f\"2020/08/{splitDate[0]}\"\n",
    "        elif splitDate[1] == \"September\":\n",
    "            date = f\"2020/09/{splitDate[0]}\"\n",
    "        elif splitDate[1] == \"October\":\n",
    "            date = f\"2020/10/{splitDate[0]}\"\n",
    "        elif splitDate[1] == \"November\":\n",
    "            date = f\"2020/11/{splitDate[0]}\"\n",
    "        else:\n",
    "            date = f\"2020/12/{splitDate[0]}\"\n",
    "    record[2] = date\n",
    "\n",
    "    newFile.write(json.dumps(record) + \"\\n\")"
   ]
  },
  {
   "cell_type": "code",
   "execution_count": null,
   "metadata": {},
   "outputs": [],
   "source": []
  }
 ],
 "metadata": {
  "kernelspec": {
   "display_name": "Python 3",
   "language": "python",
   "name": "python3"
  }
 },
 "nbformat": 4,
 "nbformat_minor": 2
}
